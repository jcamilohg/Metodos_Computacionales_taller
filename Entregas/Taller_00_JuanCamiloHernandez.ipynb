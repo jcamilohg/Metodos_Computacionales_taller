{
 "cells": [
  {
   "cell_type": "markdown",
   "metadata": {
    "id": "-JHP4Fo8iOlA"
   },
   "source": [
    "1. Elabore un algoritmo que calcule el doble factorial de un numero n entregado por el usuario "
   ]
  },
  {
   "cell_type": "code",
   "execution_count": 23,
   "metadata": {
    "colab": {
     "base_uri": "https://localhost:8080/"
    },
    "id": "6UzGMcLhiOlH",
    "outputId": "63e43dd1-6b2c-4963-c963-320a56735b51"
   },
   "outputs": [],
   "source": [
    "import numpy as np\n",
    "import math as mt\n",
    "import matplotlib as plt"
   ]
  },
  {
   "cell_type": "code",
   "execution_count": 33,
   "metadata": {},
   "outputs": [
    {
     "name": "stdout",
     "output_type": "stream",
     "text": [
      "Doble factorial de 3 es: 720\n",
      "Factorial sencillo: 6\n"
     ]
    }
   ],
   "source": [
    "# Calculo del doble fatorial\n",
    "fac = 3\n",
    "n = fac\n",
    "N = n\n",
    "result = mt.factorial(mt.factorial(fac))\n",
    "print('Doble factorial de', fac,'es:',result)\n",
    "# con ciclo factorial sencillo \n",
    "for i in range(1,n-1):\n",
    "  n = n*(N-i)\n",
    "print('Factorial sencillo:',n)"
   ]
  },
  {
   "cell_type": "markdown",
   "metadata": {
    "id": "njjKgJkpiOlM"
   },
   "source": [
    "2. Diseñar un programa que lea dos numero a y b y diga que tipo de numero son, de a cuerdo a la siguiente clasificación:\n",
    "    \n",
    "Números defectivos : la suma de los divisores propios es menor que el número.\n",
    "Números abundantes: la suma de los divisores es mayor que el número.\n",
    "Números amigos a y b tales que a es la suma de los divisores propios de b y viceversa.\n",
    "Números perfectos la suma de todos sus divisores propios, excepto el mismo numero, es igual al número.\n",
    "Números primos el número es divisible unicamente por sí mismo y por 1"
   ]
  },
  {
   "cell_type": "code",
   "execution_count": 2,
   "metadata": {
    "id": "xwvS3cgEiOlN",
    "outputId": "ee4744aa-d3e8-4db8-fc93-25e33a1e98e8"
   },
   "outputs": [
    {
     "name": "stdout",
     "output_type": "stream",
     "text": [
      "los divisores de  5\n",
      "1 es divisor\n",
      "5 es divisor\n",
      "el numero  5  tiene  2  divisores\n",
      "Suma de los divisores = 6\n"
     ]
    }
   ],
   "source": [
    "# Numeros defectivos : la suma de los divisores propios es menor que el numero \n",
    "# Encuentra los divisores de un numero y los suma\n",
    "# Numero es entrado por usuario\n",
    "numero = 5  \n",
    "#Inicia contador\n",
    "contador = 0 \n",
    "#Inicia suma\n",
    "suma = 0\n",
    "print(\"los divisores de \",numero)\n",
    "for divisor in range(1,numero+1): # Ciclo para incrementar los valores que serviran para determinar el divisor\n",
    "    if (numero % divisor) == 0 : # Calcula el divisor y presunta si el residuo es cero\n",
    "        suma = suma + divisor # Suma los divisores del numero\n",
    "        print(divisor,\"es divisor\") # Linea para visualizar resultados\n",
    "        contador += 1 # Linea para identificar cuantos divisores se tienen\n",
    "print(\"el numero \",numero,\" tiene \",contador,\" divisores\")\n",
    "print (\"Suma de los divisores =\",suma)"
   ]
  },
  {
   "cell_type": "code",
   "execution_count": 3,
   "metadata": {
    "id": "kRX7JLYLiOlO",
    "outputId": "e2fc7a20-2d62-4325-c84a-c0c2c89fd3a9"
   },
   "outputs": [
    {
     "name": "stdout",
     "output_type": "stream",
     "text": [
      "5  no es defectivo\n"
     ]
    }
   ],
   "source": [
    "# valida si el numero cumple la propiedad para ser defectivo, la suma de los divisores en menor que el numero\n",
    "# Compara entre el numero proporcionado por el usuario y la suma de los divisores\n",
    "if (suma < numero):\n",
    "    print (numero,\"es defectivo\")\n",
    "else:\n",
    "    print (numero,\" no es defectivo\")"
   ]
  },
  {
   "cell_type": "code",
   "execution_count": 4,
   "metadata": {
    "id": "q3PoYW39iOlO",
    "outputId": "fd6f400e-2eb8-4166-fe7f-f0216c3a20a6"
   },
   "outputs": [
    {
     "name": "stdout",
     "output_type": "stream",
     "text": [
      "5 es abundante\n"
     ]
    }
   ],
   "source": [
    "# valida si son numeros abundantes la suma es el total de los divisores  \n",
    "if (suma > numero):\n",
    "    print (numero,\"es abundante\")\n",
    "else:\n",
    "    print (numero,\" no es abundante\")"
   ]
  },
  {
   "cell_type": "code",
   "execution_count": 5,
   "metadata": {
    "id": "W75Cfb58iOlP",
    "outputId": "f6dd1fdb-87b8-4882-a548-9f4e0ce1ebd7"
   },
   "outputs": [
    {
     "name": "stdout",
     "output_type": "stream",
     "text": [
      "5 y 4 No son amigos \n"
     ]
    }
   ],
   "source": [
    "# Valida si dos numeros son amigos\n",
    "# a = numero b = segundo numero los cuales se comparan para evaluar si son amigos\n",
    "b = 4\n",
    "if (suma == b):\n",
    "    print (numero,\"y\", b,\"Son amigos \")\n",
    "else:\n",
    "    print (numero,\"y\", b,\"No son amigos \")"
   ]
  },
  {
   "cell_type": "code",
   "execution_count": 35,
   "metadata": {},
   "outputs": [
    {
     "name": "stdout",
     "output_type": "stream",
     "text": [
      "9 No es semiperfectos\n"
     ]
    }
   ],
   "source": [
    "# Valida si dos numeros son semiperfectos\n",
    "# a = numero b = segundo numero los cuales se comparan para evaluar si son amigos\n",
    "b = suma + numero\n",
    "if (suma == b):\n",
    "    print (numero,'es semiperfecto')\n",
    "else:\n",
    "    print (numero,'No es semiperfectos')"
   ]
  },
  {
   "cell_type": "code",
   "execution_count": 6,
   "metadata": {
    "id": "Z58ub5OkiOlQ",
    "outputId": "e2d55242-046f-4cc4-d3ac-d7b1a9ef4858"
   },
   "outputs": [
    {
     "name": "stdout",
     "output_type": "stream",
     "text": [
      "5  No es perfecto \n"
     ]
    }
   ],
   "source": [
    "# Valida si dos numeros son perfectos\n",
    "b = suma - numero\n",
    "if (suma == b):\n",
    "    print (numero,\" Es perfecto \")\n",
    "else:\n",
    "    print (numero,\" No es perfecto \")"
   ]
  },
  {
   "cell_type": "code",
   "execution_count": 7,
   "metadata": {
    "id": "31fhRh6YiOlQ",
    "outputId": "971475c0-4c96-4068-a070-b970facb8773"
   },
   "outputs": [
    {
     "name": "stdout",
     "output_type": "stream",
     "text": [
      "5  Es primo \n"
     ]
    }
   ],
   "source": [
    "# Numeros primos \n",
    "if (contador == 2):\n",
    "    print (numero,\" Es primo \")\n",
    "else:\n",
    "    print (numero,\" No es primo \")\n"
   ]
  },
  {
   "cell_type": "markdown",
   "metadata": {
    "id": "oW3zpFoaiOlR"
   },
   "source": [
    "3. Determine si un número n entero ingresado por el usuario es un palíndromo, (Retorne True en caso afirmativo y False en caso contrario)"
   ]
  },
  {
   "cell_type": "code",
   "execution_count": 36,
   "metadata": {
    "colab": {
     "base_uri": "https://localhost:8080/"
    },
    "id": "uDEdXcDliOlR",
    "outputId": "ee275724-31f8-450f-a17e-242cf6382eac"
   },
   "outputs": [
    {
     "name": "stdout",
     "output_type": "stream",
     "text": [
      "112\n",
      "Numero de elemntos: 3\n",
      "2\n",
      "21\n",
      "211\n"
     ]
    }
   ],
   "source": [
    "num = 112  # num es ingresado por usuario para evaluar si es palindromo \n",
    "cadena = str(num) # hace el cambio de num a string\n",
    "print(cadena) # validar cadena \n",
    "largo = len(cadena) # Evalua el tamaño de num\n",
    "numinverso = \"\" # inicializa variabla\n",
    "print(\"Numero de elemntos:\",largo)\n",
    "for i in range(largo-1,-1,-1):  # ciclo para invertir valores\n",
    "    numinverso += cadena[i]  # Revierte orden \n",
    "    print(numinverso)"
   ]
  },
  {
   "cell_type": "code",
   "execution_count": 37,
   "metadata": {
    "id": "OvvOjUGwiOlS",
    "outputId": "aff0ca92-b13a-4cfc-b4c5-347181e0418f"
   },
   "outputs": [
    {
     "name": "stdout",
     "output_type": "stream",
     "text": [
      "palindromo ( 112 )\n",
      "False\n"
     ]
    }
   ],
   "source": [
    "# compara el numero ingresado por usuario con el numero inverso \n",
    "if cadena == numinverso:\n",
    "    num = True\n",
    "    numinverso = True\n",
    "    print(\"palindromo(\",cadena,\")\")\n",
    "    print (num and numinverso)\n",
    "else:\n",
    "    num = True\n",
    "    numinverso = False\n",
    "    print(\"palindromo (\",cadena,\")\")\n",
    "    print (num and numinverso)"
   ]
  },
  {
   "cell_type": "markdown",
   "metadata": {
    "id": "rrzj5PDSiOlT"
   },
   "source": [
    "4. Dada una cadena de caracteres, entregar una lista donde se retorne:\n",
    "\n",
    "en la primera casilla: True si el caracter del medio es una vocal, False en caso contrario\n",
    "en la segunda: el numero de vocales en la cadena\n",
    "en la tercera: el numero de consonantes\n",
    "en la ultima: la cadena de caracteres invertida (ej: perro, orrep)"
   ]
  },
  {
   "cell_type": "code",
   "execution_count": 39,
   "metadata": {
    "id": "6lTzNy93iOlT",
    "outputId": "d5e3fea6-4f07-424e-8b59-c0ae405bc88d"
   },
   "outputs": [
    {
     "name": "stdout",
     "output_type": "stream",
     "text": [
      "Numero de letras: 10\n",
      "posicion buscada: 5\n",
      "La letra dentro de la cadena es: d\n",
      "El caracter es vocal: False\n"
     ]
    }
   ],
   "source": [
    "# codigo para identificar letra central y definir si es vocal o no\n",
    "num = \"gasodaskjh\" # cadena ingresada por usuario \n",
    "cadena = str(num)  # convierte a string esta linea no se usa aqui pero no la quito por que use la variable en los siguientes\n",
    "largo = len(cadena)\n",
    "print (\"Numero de letras:\",largo)\n",
    "mitad = largo//2\n",
    "print(\"posicion buscada:\",mitad)\n",
    "print(\"La letra dentro de la cadena es:\",num[mitad-1])\n",
    "# Compara dentro de la cadena en busca de las vocales  \n",
    "if num[mitad-1]  == \"a\" or num[mitad-1]  == \"e\" or num[mitad-1]  == \"i\" or num[mitad-1]  == \"o\" or num[mitad-1]  == \"u\" :\n",
    "    result = True\n",
    "    print (\"El caracter es vocal:\",result)\n",
    "else: \n",
    "    result = False \n",
    "    print (\"El caracter es vocal:\",result)"
   ]
  },
  {
   "cell_type": "code",
   "execution_count": 40,
   "metadata": {
    "id": "0vsAY-eFiOlU",
    "outputId": "bf8a4828-45d1-4d55-a5f6-091bb9195942"
   },
   "outputs": [
    {
     "name": "stdout",
     "output_type": "stream",
     "text": [
      "gasodaskjh\n",
      "Numero de elemntos: 10\n",
      "El numero de vocales es: 3\n",
      "El numero de consonantes es: 7\n"
     ]
    }
   ],
   "source": [
    "# Calcula el numero de vocales y consonantes\n",
    "print(cadena)\n",
    "largo = len(cadena)\n",
    "print(\"Numero de elemntos:\",largo)\n",
    "conuno = 0 # Variable usada para las vocales\n",
    "conso = 0  #Variable usada para las consonantes \n",
    "for r in range(0,largo,1):\n",
    "    if num[r] == \"a\" or num[r] == \"e\" or num[r] == \"i\" or num[r] == \"o\" or num[r] == \"u\" :\n",
    "            conuno = conuno + 1 # contadodor de vocales\n",
    "    else:\n",
    "            conso = conso + 1  # Contador de consonantes\n",
    "print (\"El numero de vocales es:\",conuno)\n",
    "print (\"El numero de consonantes es:\",conso)"
   ]
  },
  {
   "cell_type": "code",
   "execution_count": 41,
   "metadata": {
    "id": "1Z-2IwGwiOlU",
    "outputId": "2cf3718d-4cbb-4e98-e3ea-444763946b7f"
   },
   "outputs": [
    {
     "name": "stdout",
     "output_type": "stream",
     "text": [
      "hjksadosag\n"
     ]
    }
   ],
   "source": [
    "# Invierte la cadena de caracteres \n",
    "numinverso = \"\"\n",
    "for i in range(largo-1,-1,-1):\n",
    "    numinverso += cadena[i]\n",
    "print(numinverso)"
   ]
  },
  {
   "cell_type": "code",
   "execution_count": 42,
   "metadata": {
    "id": "O0llM2LBiOlV",
    "outputId": "53b68724-a700-4337-cb19-f02a3b5417e4"
   },
   "outputs": [
    {
     "name": "stdout",
     "output_type": "stream",
     "text": [
      "Cadena original: gasodaskjh\n",
      "[False, 3, 7, 'hjksadosag']\n"
     ]
    }
   ],
   "source": [
    "# reune los resultados de evaluar el caracter central, el numero de vocales, numero de consonantes y cadena invertida \n",
    "compen = [result,conuno,conso,numinverso]\n",
    "print(\"Cadena original:\",num)\n",
    "print(compen)\n"
   ]
  }
 ],
 "metadata": {
  "colab": {
   "name": "Taller_00_JuanCamiloHernandez.ipynb",
   "provenance": []
  },
  "kernelspec": {
   "display_name": "Python 3",
   "language": "python",
   "name": "python3"
  },
  "language_info": {
   "codemirror_mode": {
    "name": "ipython",
    "version": 3
   },
   "file_extension": ".py",
   "mimetype": "text/x-python",
   "name": "python",
   "nbconvert_exporter": "python",
   "pygments_lexer": "ipython3",
   "version": "3.8.5"
  }
 },
 "nbformat": 4,
 "nbformat_minor": 1
}
