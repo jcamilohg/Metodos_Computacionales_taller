{
  "nbformat": 4,
  "nbformat_minor": 0,
  "metadata": {
    "colab": {
      "name": "Laboratorio01.ipynb",
      "provenance": []
    },
    "kernelspec": {
      "name": "python3",
      "display_name": "Python 3"
    },
    "language_info": {
      "name": "python"
    }
  },
  "cells": [
    {
      "cell_type": "markdown",
      "source": [
        "# Caos numérico en un mapa logístico y errores de punto flotante (Errores de redondeo)\n",
        "\n",
        "> Un ejemplo clásico de caos,  es el comportamiento no lineal en las interaciones de un mapa logístico \n",
        "\n",
        "\\begin{equation}\n",
        "x_{n+1}=f(x_n)=rx_n(1-x_n)\n",
        "\\end{equation}\n",
        "\n",
        "> con $x\\in (0,1)$ y $r\\in(0,4)$ se pueden producir varios comportamientos sorprendentes.\n",
        "\n",
        "Para este problema, será extremadamente útil  ver sus resultados gráficamente; construya listas de números y llame la libreria matplotlib. \n",
        "\n",
        "\n",
        "> ### Problema: \n",
        "1. Programar la ecuación para el mapa logístico, y  realizar una grafica del valor de xn como funcion de n.\n",
        "\n",
        "2. Realizar pruebas para un $x?i=0.5$, con valores de r\n",
        "\n",
        "```\n",
        "  r = np.array([1.9, 2.9, 3.1, 3.5, 3.9,4.0])\n",
        "  numpoints = 100, # Numero sugerido de iteraciones\n",
        "  x0 = 0.5\n",
        "```\n",
        "\n",
        "Organizar las gráficas [multiples plot](https://matplotlib.org/stable/gallery/subplots_axes_and_figures/subplots_demo.html)\n",
        "\n",
        "\n",
        "\n",
        "3. Construye una rutina llamada logist_map en que entrada el valor de r, la condiciones inicial xi y el número de puntos determine la evolución en el punto N.  Prueba implementado las siguientes lineas.\n",
        "\n",
        "```\n",
        "Np = 1000\n",
        "xf = np.zeros(Np)\n",
        "r  = np.linspace(2.5, 4, Np)\n",
        " \n",
        "for i in range(0, Np): \n",
        "  xini = np.random.random()\n",
        "  x_i = logist_map(r = r[i], xi = xini, N = 1000) \n",
        "  xf[i] = x_i\n",
        "```\n",
        "\n",
        "\n",
        "5. Realiza un gráfico de:\n",
        "```\n",
        "  plt.plot((r-1/r), xf,  \".\", markersize = 0.5)\n",
        "```\n",
        "\n",
        "\n",
        "6. Encontrar dos formas adicionales de expresar $f(x)$, para estos valores funcionales determinar las mismas gráficas del numeral 3 para cada uno de las formas de escribir la expresión. En este caso se espera que los resultados varien. ¿A que se debe esto?. La respuesta no es inmediata, constulta algunas fuentes para sacar tu propia conclusion \n",
        "\n"
      ],
      "metadata": {
        "id": "XGXdLZDMz4Wq"
      }
    },
    {
      "cell_type": "code",
      "source": [
        ""
      ],
      "metadata": {
        "id": "w4HjlbLk_r_2"
      },
      "execution_count": null,
      "outputs": []
    },
    {
      "cell_type": "code",
      "source": [
        ""
      ],
      "metadata": {
        "id": "rHDv78Cuz6gZ"
      },
      "execution_count": null,
      "outputs": []
    }
  ]
}