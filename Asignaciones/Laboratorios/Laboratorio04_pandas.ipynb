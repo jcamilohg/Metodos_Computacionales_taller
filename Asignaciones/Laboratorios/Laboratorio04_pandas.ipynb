{
 "cells": [
  {
   "cell_type": "markdown",
   "id": "36f42a75",
   "metadata": {},
   "source": [
    "\n",
    "## Pandas \n",
    "1.  El dataset [Temperature_Bogota_Barcelona](https://github.com/hernansalinas/Metodos_Computacionales_taller/blob/main/Asignaciones/Laboratorios/dataset/Temperature_Bogota_Barcelona.csv)\n",
    " contiene información de la temperatura (en grados Fahrenheit) promedio de Bogotá y Barcelona desde el año 1995. Para el presente dataset realizar lo siguiente:\n",
    "\n",
    " a. Leer el dataset desde el link sugerido.\n",
    "\n",
    " b. Eliminar las columnas Month,  day y Unnamed\n",
    "\n",
    " c. Adicionar una nueva columna AvgTempCelcius con la temperatura en grados celcius. $ C=(F-32)/1.8$\n",
    "\n",
    " d. Realizar un gráfico de AvgTempCelcius como función del año para la ciudad de Bogotá.\n",
    "\n",
    " e. Realizar un grafico de AvgTempCelcius como funcion del año para la ciudad de Barcelona.\n",
    "\n",
    "\n",
    "\n",
    "Referencia: \n",
    "- Dataset tomado y modificado de : https://www.kaggle.com/sudalairajkumar/daily-temperature-of-major-cities\n",
    "\n"
   ]
  }
 ],
 "metadata": {
  "kernelspec": {
   "display_name": "Python 3 (ipykernel)",
   "language": "python",
   "name": "python3"
  },
  "language_info": {
   "codemirror_mode": {
    "name": "ipython",
    "version": 3
   },
   "file_extension": ".py",
   "mimetype": "text/x-python",
   "name": "python",
   "nbconvert_exporter": "python",
   "pygments_lexer": "ipython3",
   "version": "3.8.12"
  }
 },
 "nbformat": 4,
 "nbformat_minor": 5
}
